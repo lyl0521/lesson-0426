{
 "cells": [
  {
   "cell_type": "markdown",
   "metadata": {
    "pycharm": {}
   },
   "source": [
    "# 内置函数"
   ]
  },
  {
   "cell_type": "markdown",
   "metadata": {
    "pycharm": {}
   },
   "source": [
    "#### bin()\n",
    "#### 返回整数的二进制表示"
   ]
  },
  {
   "cell_type": "code",
   "execution_count": 1,
   "metadata": {
    "pycharm": {}
   },
   "outputs": [
    {
     "name": "stdout",
     "output_type": "stream",
     "text": [
      "0b1010\n",
      "0b1010\n"
     ]
    }
   ],
   "source": [
    "print(bin(int(10)))\n",
    "print(bin(10))"
   ]
  },
  {
   "cell_type": "markdown",
   "metadata": {
    "pycharm": {}
   },
   "source": [
    "#### any()\n",
    "#### 如果都为空、0、false，则返回false，如果不都为空、0、false，则返回true。"
   ]
  },
  {
   "cell_type": "code",
   "execution_count": 2,
   "metadata": {
    "pycharm": {}
   },
   "outputs": [
    {
     "name": "stdout",
     "output_type": "stream",
     "text": [
      "True\n",
      "True\n",
      "False\n",
      "True\n",
      "True\n",
      "False\n",
      "False\n",
      "False\n"
     ]
    }
   ],
   "source": [
    "print(any(['a', 'b', 'c', 'd']))   #True\n",
    "print(any(['a', 'b', '', 'd']))   #True\n",
    "print(any([0, '', False]))         #False\n",
    "print(any(('a', 'b', 'c', 'd')))   #True\n",
    "print(any(('a', 'b', '', 'd')))   #True\n",
    "print(any((0, '', False)))      #False\n",
    "print(any([]))   #True\n",
    "print(any(()))   #True"
   ]
  },
  {
   "cell_type": "markdown",
   "metadata": {
    "pycharm": {}
   },
   "source": [
    "#### all()\n",
    "#### 如果iterable的所有元素不为0、''、False或者iterable为空，all(iterable)返回True，否则返回False；\n",
    "\n",
    "#### 注意：空元组、空列表返回值为True，这里要特别注意。"
   ]
  },
  {
   "cell_type": "code",
   "execution_count": 3,
   "metadata": {
    "pycharm": {}
   },
   "outputs": [
    {
     "name": "stdout",
     "output_type": "stream",
     "text": [
      "False\n",
      "True\n",
      "False\n",
      "True\n",
      "True\n",
      "False\n",
      "False\n",
      "True\n"
     ]
    }
   ],
   "source": [
    "print(all([0,1,2,3]))   #   False\n",
    "print(all([1,2,3]))     #   True\n",
    "print(all(['a','b','c','']))       # False\n",
    "print(all(['a','b','c','d']))       #True\n",
    "\n",
    "print(all(('a','b','c','d')))   #True\n",
    "print(all(('a','b','','c')))    #False\n",
    "print(all((0,1,2,3)))            #False\n",
    "print(all((1,2,3)))              #True"
   ]
  },
  {
   "cell_type": "markdown",
   "metadata": {
    "pycharm": {}
   },
   "source": [
    "#### bool()\n",
    "#### bool() 函数用于将给定参数转换为布尔类型，如果没有参数，返回 False。"
   ]
  },
  {
   "cell_type": "code",
   "execution_count": 5,
   "metadata": {
    "pycharm": {}
   },
   "outputs": [
    {
     "name": "stdout",
     "output_type": "stream",
     "text": [
      "False\n",
      "False\n",
      "True\n",
      "True\n"
     ]
    },
    {
     "data": {
      "text/plain": [
       "True"
      ]
     },
     "execution_count": 5,
     "metadata": {},
     "output_type": "execute_result"
    }
   ],
   "source": [
    "print(bool())\n",
    "print(bool(0))\n",
    "print(bool(1))\n",
    "print(bool(2))\n",
    "issubclass(bool,int)  # bool是int子类"
   ]
  },
  {
   "cell_type": "markdown",
   "metadata": {
    "pycharm": {}
   },
   "source": [
    "#### bytearry\n",
    "- class bytearray([source[, encoding[, errors]]])\n",
    "- 如果 source 为整数，则返回一个长度为 source 的初始化数组；\n",
    "- 如果 source 为字符串，则按照指定的 encoding 将字符串转换为字节序列；\n",
    "- 如果 source 为可迭代类型，则元素必须为[0 ,255] 中的整数；\n",
    "- 如果 source 为与 buffer 接口一致的对象，则此对象也可以被用于初始化 bytearray。\n",
    "- 如果没有输入任何参数，默认就是初始化数组为0个元素。"
   ]
  },
  {
   "cell_type": "code",
   "execution_count": 2,
   "metadata": {
    "pycharm": {}
   },
   "outputs": [
    {
     "name": "stdout",
     "output_type": "stream",
     "text": [
      "bytearray(b'')\n",
      "bytearray(b'\\x01\\x02\\x03')\n",
      "bytearray(b'runoob')\n"
     ]
    }
   ],
   "source": [
    "print(bytearray())\n",
    "print(bytearray([1,2,3]))\n",
    "print(bytearray('runoob', 'utf-8'))"
   ]
  },
  {
   "cell_type": "markdown",
   "metadata": {},
   "source": [
    "#### callable(object)\n",
    "##### 函数用于检查一个对象是否是可调用的。如果返回 True，object 仍然可能调用失败；但如果返回 False，调用对象 object 绝对不会成功。\n",
    "##### 对于函数、方法、lambda 函式、 类以及实现了 __call__ 方法的类实例, 它都返回 True。"
   ]
  },
  {
   "cell_type": "code",
   "execution_count": 5,
   "metadata": {},
   "outputs": [
    {
     "name": "stdout",
     "output_type": "stream",
     "text": [
      "False\n",
      "False\n",
      "True\n",
      "True\n",
      "False\n",
      "True\n",
      "True\n"
     ]
    }
   ],
   "source": [
    "print(callable(0))\n",
    "print(callable(\"runoob\"))\n",
    "\n",
    "\n",
    "def add(x,y):\n",
    "    return x+y\n",
    "print(callable(add))      # 函数返回 True\n",
    "\n",
    "\n",
    "class A:\n",
    "    def method(self):\n",
    "        return 0\n",
    "\n",
    "\n",
    "print(callable(A))        # 类返回 True\n",
    "\n",
    "\n",
    "a = A()\n",
    "print(callable(a))        # 没有实现 __call__, 返回 False\n",
    "\n",
    "\n",
    "class B:\n",
    "    def __call__(self):\n",
    "        return 0\n",
    "\n",
    "    \n",
    "print(callable(B))\n",
    "\n",
    "b = B()\n",
    "print(callable(b))         # 实现 __call__, 返回 True"
   ]
  },
  {
   "cell_type": "markdown",
   "metadata": {},
   "source": [
    "#### chr(i)\n",
    "##### chr() 用一个范围在 range（256）内的（就是0～255）整数作参数，返回一个对应的字符。\n",
    "- i  可以是10进制也可以是16进制的形式的数字。\n",
    "- 返回值是当前整数对应的 ASCII 字符。"
   ]
  },
  {
   "cell_type": "code",
   "execution_count": 6,
   "metadata": {},
   "outputs": [
    {
     "name": "stdout",
     "output_type": "stream",
     "text": [
      "0 1 a\n",
      "0 1 a\n"
     ]
    }
   ],
   "source": [
    "print(chr(0x30),chr(0x31),chr(0x61))\n",
    "\n",
    "print(chr(48),chr(49),chr(97))"
   ]
  },
  {
   "cell_type": "markdown",
   "metadata": {},
   "source": [
    "#### classmethod\n",
    "##### classmethod 修饰符对应的函数不需要实例化，不需要 self 参数，但第一个参数需要是表示自身类的 cls 参数，可以来调用类的属性，类的方法，实例化对象等"
   ]
  },
  {
   "cell_type": "code",
   "execution_count": 7,
   "metadata": {},
   "outputs": [
    {
     "name": "stdout",
     "output_type": "stream",
     "text": [
      "func2\n",
      "1\n",
      "foo\n"
     ]
    }
   ],
   "source": [
    "class A(object):\n",
    "    bar = 1\n",
    "    def func1(self):  \n",
    "        print ('foo') \n",
    "    @classmethod\n",
    "    def func2(cls):\n",
    "        print ('func2')\n",
    "        print (cls.bar)\n",
    "        cls().func1()   # 调用 foo 方法\n",
    " \n",
    "A.func2()               # 不需要实例化"
   ]
  },
  {
   "cell_type": "markdown",
   "metadata": {},
   "source": [
    "#### operator函数\n",
    "\n",
    "lt(a, b) 相当于 a < b\n",
    "\n",
    "le(a,b) 相当于 a <= b\n",
    "\n",
    "eq(a,b) 相当于 a == b\n",
    "\n",
    "ne(a,b) 相当于 a != b\n",
    "\n",
    "gt(a,b) 相当于 a > b\n",
    "\n",
    "ge(a, b)相当于 a>= b"
   ]
  },
  {
   "cell_type": "code",
   "execution_count": 18,
   "metadata": {},
   "outputs": [
    {
     "name": "stdout",
     "output_type": "stream",
     "text": [
      "True\n",
      "True\n",
      "True\n",
      "True\n",
      "True\n",
      "True\n",
      "True\n",
      "True\n",
      "True\n"
     ]
    }
   ],
   "source": [
    "import operator\n",
    "\n",
    "#lt(a, b) 相当于 a < b\n",
    "print(operator.lt(80,100))\n",
    "\n",
    "#le(a,b) 相当于 a <= b\n",
    "print(operator.le(100,100))\n",
    "print(operator.le(80,100))\n",
    "\n",
    "#eq(a,b) 相当于 a == b\n",
    "print(operator.eq('abc','abc'))\n",
    "print(operator.eq(100,100))\n",
    "\n",
    "#ne(a,b) 相当于 a != b\n",
    "print(operator.ne(90,100))\n",
    "\n",
    "#gt(a,b) 相当于 a > b\n",
    "print(operator.gt(100,90))\n",
    "\n",
    "#ge(a, b)相当于 a>= b\n",
    "print(operator.ge(100,100))\n",
    "print(operator.ge(100,90))"
   ]
  },
  {
   "cell_type": "markdown",
   "metadata": {},
   "source": [
    "#### compile(source, filename, mode[, flags[, dont_inherit]])\n",
    "\n",
    "##### compile() 函数将一个字符串编译为字节代码\n",
    "- source -- 字符串或者AST（Abstract Syntax Trees）对象。。\n",
    "- filename -- 代码文件名称，如果不是从文件读取代码则传递一些可辨认的值。\n",
    "- mode -- 指定编译代码的种类。可以指定为 exec, eval, single。\n",
    "- flags -- 变量作用域，局部命名空间，如果被提供，可以是任何映射对象。。\n",
    "- flags和dont_inherit是用来控制编译源码时的标志"
   ]
  },
  {
   "cell_type": "code",
   "execution_count": 21,
   "metadata": {},
   "outputs": [
    {
     "name": "stdout",
     "output_type": "stream",
     "text": [
      "<code object <module> at 0x000001CF379BC1E0, file \"\", line 1>\n",
      "0\n",
      "1\n",
      "2\n",
      "3\n",
      "4\n",
      "5\n",
      "6\n",
      "7\n",
      "8\n",
      "9\n",
      "None\n",
      "17\n"
     ]
    }
   ],
   "source": [
    "str = \"for i in range(0,10): print(i)\" \n",
    "c = compile(str,'','exec')\n",
    "print(c)\n",
    "\n",
    "print(exec(c))\n",
    "\n",
    "str = \"3*4+5\"\n",
    "a = compile(str,'','eval')\n",
    "print(eval(a))"
   ]
  },
  {
   "cell_type": "markdown",
   "metadata": {},
   "source": [
    "#### eval(expression[, globals[, locals]])\n",
    "\n",
    "##### eval() 函数用来执行一个字符串表达式，并返回表达式的值。\n",
    "- expression -- 表达式。\n",
    "- globals -- 变量作用域，全局命名空间，如果被提供，则必须是一个字典对象。\n",
    "- locals -- 变量作用域，局部命名空间，如果被提供，可以是任何映射对象。"
   ]
  },
  {
   "cell_type": "code",
   "execution_count": 23,
   "metadata": {},
   "outputs": [
    {
     "name": "stdout",
     "output_type": "stream",
     "text": [
      "21\n",
      "4\n",
      "4\n",
      "100\n"
     ]
    }
   ],
   "source": [
    "x = 7\n",
    "print(eval('3*x'))\n",
    "\n",
    "print(eval('pow(2,2)'))\n",
    "\n",
    "print(eval('2+2'))\n",
    "\n",
    "n = 50\n",
    "print(eval('n+50'))"
   ]
  },
  {
   "cell_type": "markdown",
   "metadata": {},
   "source": [
    "#### exec(object[, globals[, locals]])\n",
    "##### exec 执行储存在字符串或文件中的 Python 语句，相比于 eval，exec可以执行更复杂的 Python 代码。\n",
    "- object：必选参数，表示需要被指定的Python代码。它必须是字符串或code对象。如果object是一个字符串，该字符串会先被解析为一组Python语句，然后在执行（除非发生语法错误）。如果object是一个code对象，那么它只是被简单的执行。\n",
    "- globals：可选参数，表示全局命名空间（存放全局变量），如果被提供，则必须是一个字典对象。\n",
    "- locals：可选参数，表示当前局部命名空间（存放局部变量），如果被提供，可以是任何映射对象。如果该参数被忽略，那么它将会取与globals相同的值。"
   ]
  },
  {
   "cell_type": "code",
   "execution_count": 27,
   "metadata": {},
   "outputs": [
    {
     "name": "stdout",
     "output_type": "stream",
     "text": [
      "Hello World\n",
      "None\n",
      "runoob.com\n",
      "None\n",
      "iter time: 0\n",
      "iter time: 1\n",
      "iter time: 2\n",
      "iter time: 3\n",
      "iter time: 4\n",
      "None\n"
     ]
    }
   ],
   "source": [
    "a = exec('print(\"Hello World\")')\n",
    "print(a)\n",
    "\n",
    "b =  exec(\"print ('runoob.com')\")\n",
    "print(b)\n",
    "\n",
    "c = exec (\"\"\"for i in range(5):\n",
    "         print (\"iter time: %d\" % i)\n",
    "         \"\"\")\n",
    "print(c)"
   ]
  },
  {
   "cell_type": "markdown",
   "metadata": {},
   "source": [
    "#### class complex([real[, imag]])\n",
    "##### complex() 函数用于创建一个值为 real + imag * j 的复数或者转化一个字符串或数为复数。如果第一个参数为字符串，则不需要指定第二个参数。。\n",
    "- real -- int, long, float或字符串；\n",
    "- imag -- int, long, float\n",
    "\n",
    "- 返回一个复数。"
   ]
  },
  {
   "cell_type": "code",
   "execution_count": 28,
   "metadata": {},
   "outputs": [
    {
     "name": "stdout",
     "output_type": "stream",
     "text": [
      "(1+2j)\n"
     ]
    }
   ],
   "source": [
    "print(complex(1,2))"
   ]
  }
 ],
 "metadata": {
  "kernelspec": {
   "display_name": "Python 3",
   "language": "python",
   "name": "python3"
  },
  "language_info": {
   "codemirror_mode": {
    "name": "ipython",
    "version": 3
   },
   "file_extension": ".py",
   "mimetype": "text/x-python",
   "name": "python",
   "nbconvert_exporter": "python",
   "pygments_lexer": "ipython3",
   "version": "3.7.3"
  }
 },
 "nbformat": 4,
 "nbformat_minor": 2
}
